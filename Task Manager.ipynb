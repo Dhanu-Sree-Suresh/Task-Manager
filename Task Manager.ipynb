{
 "cells": [
  {
   "cell_type": "markdown",
   "id": "53e55f02-191b-4fa5-a2c9-9ccc0030d296",
   "metadata": {},
   "source": [
    "# Installing Libraries"
   ]
  },
  {
   "cell_type": "code",
   "execution_count": null,
   "id": "2dec684c-e012-4d58-ba5b-7ba63302e7c4",
   "metadata": {},
   "outputs": [],
   "source": [
    "!pip install gradio"
   ]
  },
  {
   "cell_type": "markdown",
   "id": "9608986b-0774-4423-98a6-117e5a584f00",
   "metadata": {},
   "source": [
    "# Libraries Imported"
   ]
  },
  {
   "cell_type": "code",
   "execution_count": 20,
   "id": "79289b9f-eafa-4395-aa6d-ceb042b81c7e",
   "metadata": {},
   "outputs": [],
   "source": [
    "import csv\n",
    "from datetime import datetime\n",
    "import gradio"
   ]
  },
  {
   "cell_type": "code",
   "execution_count": 52,
   "id": "77e36089-372b-464e-ab1c-cd9e376a134a",
   "metadata": {},
   "outputs": [],
   "source": [
    "#Creating a class called Task\n",
    "class Task:\n",
    "    #Initializing attributes of the class called Task\n",
    "    def __init__(self, description: str, deadline: str, priority: str, status: str = \"Pending\"):\n",
    "        #Default argument of status is given as Pending\n",
    "        self.description = description\n",
    "        self.deadline = deadline\n",
    "        self.priority = priority\n",
    "        self.status = status\n",
    "\n",
    "    def mark_complete(self):\n",
    "        self.status = \"Completed\"\n",
    "\n",
    "    def is_overdue(self):\n",
    "        return self.deadline < datetime.now().date()\n",
    "\n",
    "    #Ensuring the values are added in the correct format\n",
    "    @property\n",
    "    def deadline(self):\n",
    "        return self._deadline\n",
    "\n",
    "    #Validating and setting the deadline\n",
    "    @deadline.setter\n",
    "    def deadline(self, value):\n",
    "        try:\n",
    "            valid_date = datetime.strptime(value, '%Y-%m-%d').date()\n",
    "            self._deadline = valid_date\n",
    "        except:\n",
    "            print(\"Invalid Date Format\")\n",
    "            \n",
    "    @property\n",
    "    def priority(self):\n",
    "        return self._priority\n",
    "\n",
    "    @priority.setter\n",
    "    def priority(self, value):\n",
    "        priorities = [\"Low\", \"Medium\", \"High\"]\n",
    "        try:\n",
    "            if value.strip().capitalize() in priorities:\n",
    "                self._priority = value.strip().capitalize()\n",
    "        except ValueError:\n",
    "            print(\"Invalid Priority\")\n",
    "            self._priority = None\n",
    "            \n",
    "    @staticmethod\n",
    "    def add_task(tasks):\n",
    "        description = input(\"Enter task description: \")\n",
    "        deadline = input(\"Enter deadline (YYYY-MM-DD): \")\n",
    "        priority = input(\"Enter priority (Low, Medium, High): \")\n",
    "        task = Task(description, deadline, priority)\n",
    "        tasks.append(task)\n",
    "        print(\"Task added successfully.\")\n",
    "\n",
    "    @staticmethod\n",
    "    def view_tasks(tasks):\n",
    "        sorted_tasks = sorted(tasks, key=lambda x: (x.priority, x.deadline))\n",
    "        for i, task in enumerate(sorted_tasks, 1):\n",
    "            overdue_flag = \"\"\n",
    "            if task.is_overdue():\n",
    "                overdue_flag = \"[Overdue] \"\n",
    "            print(f\"{i}. {overdue_flag}{task.description} (Deadline: {task.deadline}, Priority: {task.priority}, Status: {task.status})\")\n",
    "\n",
    "    @staticmethod\n",
    "    def complete_task(tasks):\n",
    "        view_tasks(tasks)\n",
    "        try:\n",
    "            index = int(input(\"Enter the index of the task to complete: \")) - 1\n",
    "            tasks[index].mark_complete()\n",
    "            print(\"Task marked as complete.\")\n",
    "        except:\n",
    "            print(\"Please enter a valid index.\")\n",
    "\n",
    "    @staticmethod\n",
    "    def delete_task(tasks):\n",
    "        view_tasks(tasks)\n",
    "        try:\n",
    "            index = int(input(\"Enter the index of the task to delete: \")) - 1\n",
    "            if tasks[index].status == \"Completed\":\n",
    "                del tasks[index]\n",
    "                print(\"Task deleted.\")\n",
    "            else:\n",
    "                print(\"Only completed tasks can be deleted.\")\n",
    "        except:\n",
    "            print(\"Please enter a valid index.\")\n",
    "\n",
    "    @staticmethod\n",
    "    def save_tasks(tasks):\n",
    "        with open(\"tasks.csv\", \"w\", newline=\"\") as file:\n",
    "            writer = csv.writer(file)\n",
    "            writer.writerow([\"Description\", \"Deadline\", \"Priority\", \"Status\"])\n",
    "            for task in tasks:\n",
    "                writer.writerow([task.description, task.deadline.strftime(\"%Y-%m-%d\"), task.priority, task.status])\n",
    "\n",
    "    @staticmethod\n",
    "    def load_tasks():\n",
    "        tasks = []\n",
    "        try:\n",
    "            with open(\"tasks.csv\", \"r\") as file:\n",
    "                reader = csv.reader(file)\n",
    "                next(reader)  # Skip header row\n",
    "                for row in reader:\n",
    "                    task = Task(row[0], row[1], row[2], row[3])\n",
    "                    tasks.append(task)\n",
    "        except FileNotFoundError:\n",
    "            pass\n",
    "        return tasks"
   ]
  },
  {
   "cell_type": "markdown",
   "id": "3a60270c-31ab-42eb-9acf-357492571f75",
   "metadata": {},
   "source": [
    "## User-Input Application"
   ]
  },
  {
   "cell_type": "code",
   "execution_count": 53,
   "id": "f747fc8b-3bf2-464f-8fd8-384b4269049e",
   "metadata": {},
   "outputs": [
    {
     "name": "stdout",
     "output_type": "stream",
     "text": [
      "\n",
      "To-Do List Manager\n",
      "1. Add Task\n",
      "2. View Tasks\n",
      "3. Complete Task\n",
      "4. Delete Task\n",
      "5. Save Tasks\n",
      "6. Exit\n"
     ]
    },
    {
     "name": "stdin",
     "output_type": "stream",
     "text": [
      "Enter your choice:  1\n",
      "Enter task description:  Task2\n",
      "Enter deadline (YYYY-MM-DD):  2023-12-24\n",
      "Enter priority (Low, Medium, High):  Low\n"
     ]
    },
    {
     "name": "stdout",
     "output_type": "stream",
     "text": [
      "Task added successfully.\n",
      "\n",
      "To-Do List Manager\n",
      "1. Add Task\n",
      "2. View Tasks\n",
      "3. Complete Task\n",
      "4. Delete Task\n",
      "5. Save Tasks\n",
      "6. Exit\n"
     ]
    },
    {
     "name": "stdin",
     "output_type": "stream",
     "text": [
      "Enter your choice:  Task3\n"
     ]
    },
    {
     "name": "stdout",
     "output_type": "stream",
     "text": [
      "Invalid choice. Please try again.\n",
      "\n",
      "To-Do List Manager\n",
      "1. Add Task\n",
      "2. View Tasks\n",
      "3. Complete Task\n",
      "4. Delete Task\n",
      "5. Save Tasks\n",
      "6. Exit\n"
     ]
    },
    {
     "name": "stdin",
     "output_type": "stream",
     "text": [
      "Enter your choice:  1\n",
      "Enter task description:  Task3\n",
      "Enter deadline (YYYY-MM-DD):  2024-12-12\n",
      "Enter priority (Low, Medium, High):  Medium\n"
     ]
    },
    {
     "name": "stdout",
     "output_type": "stream",
     "text": [
      "Task added successfully.\n",
      "\n",
      "To-Do List Manager\n",
      "1. Add Task\n",
      "2. View Tasks\n",
      "3. Complete Task\n",
      "4. Delete Task\n",
      "5. Save Tasks\n",
      "6. Exit\n"
     ]
    },
    {
     "name": "stdin",
     "output_type": "stream",
     "text": [
      "Enter your choice:  2\n"
     ]
    },
    {
     "name": "stdout",
     "output_type": "stream",
     "text": [
      "1. [Overdue] Task1 (Deadline: 2023-12-13, Priority: High, Status: Completed)\n",
      "2. [Overdue] Task2 (Deadline: 2023-12-24, Priority: Low, Status: Pending)\n",
      "3. Task3 (Deadline: 2024-12-12, Priority: Medium, Status: Pending)\n",
      "\n",
      "To-Do List Manager\n",
      "1. Add Task\n",
      "2. View Tasks\n",
      "3. Complete Task\n",
      "4. Delete Task\n",
      "5. Save Tasks\n",
      "6. Exit\n"
     ]
    },
    {
     "name": "stdin",
     "output_type": "stream",
     "text": [
      "Enter your choice:  3.\n"
     ]
    },
    {
     "name": "stdout",
     "output_type": "stream",
     "text": [
      "Invalid choice. Please try again.\n",
      "\n",
      "To-Do List Manager\n",
      "1. Add Task\n",
      "2. View Tasks\n",
      "3. Complete Task\n",
      "4. Delete Task\n",
      "5. Save Tasks\n",
      "6. Exit\n"
     ]
    },
    {
     "name": "stdin",
     "output_type": "stream",
     "text": [
      "Enter your choice:  2\n"
     ]
    },
    {
     "name": "stdout",
     "output_type": "stream",
     "text": [
      "1. [Overdue] Task1 (Deadline: 2023-12-13, Priority: High, Status: Completed)\n",
      "2. [Overdue] Task2 (Deadline: 2023-12-24, Priority: Low, Status: Pending)\n",
      "3. Task3 (Deadline: 2024-12-12, Priority: Medium, Status: Pending)\n",
      "\n",
      "To-Do List Manager\n",
      "1. Add Task\n",
      "2. View Tasks\n",
      "3. Complete Task\n",
      "4. Delete Task\n",
      "5. Save Tasks\n",
      "6. Exit\n"
     ]
    },
    {
     "name": "stdin",
     "output_type": "stream",
     "text": [
      "Enter your choice:  3\n"
     ]
    },
    {
     "name": "stdout",
     "output_type": "stream",
     "text": [
      "1. [Overdue] Task1 (Deadline: 2023-12-13, Priority: High, Status: Completed)\n",
      "2. [Overdue] Task2 (Deadline: 2023-12-24, Priority: Low, Status: Pending)\n",
      "3. Task3 (Deadline: 2024-12-12, Priority: Medium, Status: Pending)\n"
     ]
    },
    {
     "name": "stdin",
     "output_type": "stream",
     "text": [
      "Enter the index of the task to complete:  2\n"
     ]
    },
    {
     "name": "stdout",
     "output_type": "stream",
     "text": [
      "Task marked as complete.\n",
      "\n",
      "To-Do List Manager\n",
      "1. Add Task\n",
      "2. View Tasks\n",
      "3. Complete Task\n",
      "4. Delete Task\n",
      "5. Save Tasks\n",
      "6. Exit\n"
     ]
    },
    {
     "name": "stdin",
     "output_type": "stream",
     "text": [
      "Enter your choice:  2\n"
     ]
    },
    {
     "name": "stdout",
     "output_type": "stream",
     "text": [
      "1. [Overdue] Task1 (Deadline: 2023-12-13, Priority: High, Status: Completed)\n",
      "2. [Overdue] Task2 (Deadline: 2023-12-24, Priority: Low, Status: Completed)\n",
      "3. Task3 (Deadline: 2024-12-12, Priority: Medium, Status: Pending)\n",
      "\n",
      "To-Do List Manager\n",
      "1. Add Task\n",
      "2. View Tasks\n",
      "3. Complete Task\n",
      "4. Delete Task\n",
      "5. Save Tasks\n",
      "6. Exit\n"
     ]
    },
    {
     "name": "stdin",
     "output_type": "stream",
     "text": [
      "Enter your choice:  4\n"
     ]
    },
    {
     "name": "stdout",
     "output_type": "stream",
     "text": [
      "1. [Overdue] Task1 (Deadline: 2023-12-13, Priority: High, Status: Completed)\n",
      "2. [Overdue] Task2 (Deadline: 2023-12-24, Priority: Low, Status: Completed)\n",
      "3. Task3 (Deadline: 2024-12-12, Priority: Medium, Status: Pending)\n"
     ]
    },
    {
     "name": "stdin",
     "output_type": "stream",
     "text": [
      "Enter the index of the task to delete:  2\n"
     ]
    },
    {
     "name": "stdout",
     "output_type": "stream",
     "text": [
      "Task deleted.\n",
      "\n",
      "To-Do List Manager\n",
      "1. Add Task\n",
      "2. View Tasks\n",
      "3. Complete Task\n",
      "4. Delete Task\n",
      "5. Save Tasks\n",
      "6. Exit\n"
     ]
    },
    {
     "name": "stdin",
     "output_type": "stream",
     "text": [
      "Enter your choice:  5\n"
     ]
    },
    {
     "name": "stdout",
     "output_type": "stream",
     "text": [
      "\n",
      "To-Do List Manager\n",
      "1. Add Task\n",
      "2. View Tasks\n",
      "3. Complete Task\n",
      "4. Delete Task\n",
      "5. Save Tasks\n",
      "6. Exit\n"
     ]
    },
    {
     "name": "stdin",
     "output_type": "stream",
     "text": [
      "Enter your choice:  6\n"
     ]
    }
   ],
   "source": [
    "def main():\n",
    "    tasks = load_tasks()\n",
    "\n",
    "    while True:\n",
    "        print(\"\"\"\n",
    "To-Do List Manager\n",
    "1. Add Task\n",
    "2. View Tasks\n",
    "3. Complete Task\n",
    "4. Delete Task\n",
    "5. Save Tasks\n",
    "6. Exit\"\"\")\n",
    "\n",
    "        c = input(\"Enter your choice: \")\n",
    "\n",
    "        if c == \"1\":\n",
    "            add_task(tasks)\n",
    "        elif c == \"2\":\n",
    "            view_tasks(tasks)\n",
    "        elif c == \"3\":\n",
    "            complete_task(tasks)\n",
    "        elif c == \"4\":\n",
    "            delete_task(tasks)\n",
    "        elif c == \"5\":\n",
    "            save_tasks(tasks)\n",
    "        elif c == \"6\":\n",
    "            break\n",
    "        else:\n",
    "            print(\"Invalid choice. Please try again.\")\n",
    "\n",
    "if __name__ == \"__main__\":\n",
    "    main()"
   ]
  }
 ],
 "metadata": {
  "kernelspec": {
   "display_name": "Python 3 (ipykernel)",
   "language": "python",
   "name": "python3"
  },
  "language_info": {
   "codemirror_mode": {
    "name": "ipython",
    "version": 3
   },
   "file_extension": ".py",
   "mimetype": "text/x-python",
   "name": "python",
   "nbconvert_exporter": "python",
   "pygments_lexer": "ipython3",
   "version": "3.12.4"
  }
 },
 "nbformat": 4,
 "nbformat_minor": 5
}
