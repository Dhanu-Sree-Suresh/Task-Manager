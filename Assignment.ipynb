{
 "cells": [
  {
   "cell_type": "markdown",
   "id": "5176baab-5657-4b3d-89e1-3921cb8820c3",
   "metadata": {},
   "source": [
    "# Task 1"
   ]
  },
  {
   "cell_type": "markdown",
   "id": "e56c4b50-8fd8-4a9c-98f0-85a4bd120ec3",
   "metadata": {},
   "source": [
    "## Functions"
   ]
  },
  {
   "cell_type": "code",
   "execution_count": 1,
   "id": "3a83c4e5-3ae2-47d5-911e-e4493f8b70f3",
   "metadata": {},
   "outputs": [],
   "source": [
    "#Function Definition \n",
    "def area(len, wid):\n",
    "    return len*wid"
   ]
  },
  {
   "cell_type": "code",
   "execution_count": 2,
   "id": "4fa7c500-107f-4bc9-8837-6ce6d4d8b778",
   "metadata": {},
   "outputs": [
    {
     "name": "stdout",
     "output_type": "stream",
     "text": [
      "Area of the rectange: 200 sq. units\n"
     ]
    }
   ],
   "source": [
    "#Function Calling\n",
    "a = area(10, 20)\n",
    "print(f\"Area of the rectange: {a} sq. units\")"
   ]
  },
  {
   "cell_type": "markdown",
   "id": "e54f979a-a024-4a42-b62d-f7b2a4e568ae",
   "metadata": {},
   "source": [
    "## Parameters & Arguments"
   ]
  },
  {
   "cell_type": "code",
   "execution_count": 3,
   "id": "cccf1ffb-fd54-4c7b-b7d1-6490a3bd1ec8",
   "metadata": {},
   "outputs": [],
   "source": [
    "#Function Definition\n",
    "def add(a, b): #a and b are parameters\n",
    "    return a+b"
   ]
  },
  {
   "cell_type": "code",
   "execution_count": 4,
   "id": "25a12f2d-100f-405c-8ba5-e0cfa06b5850",
   "metadata": {},
   "outputs": [
    {
     "name": "stdout",
     "output_type": "stream",
     "text": [
      "The sum is: 12\n"
     ]
    }
   ],
   "source": [
    "#Function Calling\n",
    "ad = add(5,7) #5 and 7 are arguments\n",
    "print(\"The sum is:\", ad)"
   ]
  },
  {
   "cell_type": "markdown",
   "id": "a7c6c645-098f-4b04-afd9-3e666ae8b602",
   "metadata": {},
   "source": [
    "## Default Values in Function Parameters"
   ]
  },
  {
   "cell_type": "code",
   "execution_count": 5,
   "id": "60d8c7d2-e013-4a99-ad74-c3a0c9a6589f",
   "metadata": {},
   "outputs": [],
   "source": [
    "#Function Definition\n",
    "def calc_price(p, dis = 0.05):\n",
    "    return p - (p*dis)"
   ]
  },
  {
   "cell_type": "code",
   "execution_count": 6,
   "id": "de40b297-0136-4333-9314-6a75f3149342",
   "metadata": {},
   "outputs": [
    {
     "name": "stdout",
     "output_type": "stream",
     "text": [
      "95.0\n",
      "80.0\n"
     ]
    }
   ],
   "source": [
    "#Function Calling\n",
    "#Default value of dis used\n",
    "print(calc_price(100))\n",
    "#Value of dis is taken as 0.2\n",
    "print(calc_price(100, 0.2))"
   ]
  },
  {
   "cell_type": "markdown",
   "id": "5c90cd31-0c45-41d8-a054-a186cb763193",
   "metadata": {},
   "source": [
    "## Classes & Objects"
   ]
  },
  {
   "cell_type": "code",
   "execution_count": 7,
   "id": "c4ffdc7c-d7de-4d2b-821e-0a50a45f1950",
   "metadata": {},
   "outputs": [],
   "source": [
    "#Class Creation\n",
    "class Car:\n",
    "    def __init__(self, make, year):\n",
    "        self.make = make\n",
    "        self.year = year"
   ]
  },
  {
   "cell_type": "code",
   "execution_count": 8,
   "id": "35f1df62-7642-471b-89d6-65310c65b957",
   "metadata": {},
   "outputs": [],
   "source": [
    "#Instantiating Objects\n",
    "car1 = Car('Toyota', 2022)\n",
    "car2 = Car('Mercedes', 2021)"
   ]
  },
  {
   "cell_type": "markdown",
   "id": "c3720eb8-0c61-4e29-a3f2-e3eeeb70bb71",
   "metadata": {},
   "source": [
    "## __ init __ Method "
   ]
  },
  {
   "cell_type": "code",
   "execution_count": 1,
   "id": "974dfc1b-7b27-41b8-a6cb-9d1d42c20b4a",
   "metadata": {},
   "outputs": [],
   "source": [
    "#Class Creation\n",
    "class Book:\n",
    "    def __init__(self, title, author):\n",
    "        self.title = title\n",
    "        self.author = author"
   ]
  },
  {
   "cell_type": "code",
   "execution_count": 2,
   "id": "3858c2a1-9b13-4726-9b44-11715aa17df4",
   "metadata": {},
   "outputs": [],
   "source": [
    "#Instantiating Objects\n",
    "b1 = Book('Pride and Prejudice', 'Jane Austen')\n",
    "b2 = Book('Alice in Wonderland', 'Lewis Carroll')"
   ]
  },
  {
   "cell_type": "markdown",
   "id": "dbbeb09f-c432-4c9f-9805-4ce31c33eb29",
   "metadata": {},
   "source": [
    "## Encapsulation"
   ]
  },
  {
   "cell_type": "code",
   "execution_count": 9,
   "id": "6c054e09-3448-4e3d-a342-eb84eab019a7",
   "metadata": {},
   "outputs": [],
   "source": [
    "#Class Creation\n",
    "class BankAccount:\n",
    "    def __init__(self, balance):\n",
    "        self.__balance = balance\n",
    "    def deposit(self, amnt):\n",
    "        if amnt > 0:\n",
    "            self.__balance += amnt\n",
    "        else:\n",
    "            print('Amount must be positive')\n",
    "    def get_balance(self):\n",
    "        return self.__balance"
   ]
  },
  {
   "cell_type": "code",
   "execution_count": 10,
   "id": "145d7872-916a-4e56-96eb-6e6add7c8415",
   "metadata": {},
   "outputs": [],
   "source": [
    "#Instantiating Object\n",
    "b1 = BankAccount(10000)"
   ]
  },
  {
   "cell_type": "code",
   "execution_count": 11,
   "id": "70b00929-ab2b-4ab6-8866-99196cace124",
   "metadata": {},
   "outputs": [
    {
     "name": "stdout",
     "output_type": "stream",
     "text": [
      "10000\n",
      "10200\n"
     ]
    }
   ],
   "source": [
    "print(b1.get_balance())\n",
    "b1.deposit(200)\n",
    "print(b1.get_balance())"
   ]
  },
  {
   "cell_type": "markdown",
   "id": "e808f83c-a3b5-4662-8dda-eb95e1baa106",
   "metadata": {},
   "source": [
    "## Inheritance"
   ]
  },
  {
   "cell_type": "code",
   "execution_count": 12,
   "id": "9f0a0b25-8639-44d5-a022-4cf49c98adce",
   "metadata": {},
   "outputs": [],
   "source": [
    "#Parent Class Creation\n",
    "class Vehicle:\n",
    "    def __init__(self, speed, fuel):\n",
    "        self.speed = speed\n",
    "        self.fuel = fuel"
   ]
  },
  {
   "cell_type": "code",
   "execution_count": 13,
   "id": "d6473da6-4b48-443a-a4f0-0b25cfcad5bd",
   "metadata": {},
   "outputs": [],
   "source": [
    "#Child Class Creation\n",
    "class Car(Vehicle):\n",
    "    def __init__(self, speed, fuel, number_of_doors):\n",
    "        super().__init__(speed, fuel)\n",
    "        self.number_of_doors = number_of_doors"
   ]
  },
  {
   "cell_type": "code",
   "execution_count": 14,
   "id": "71957641-475c-4e94-ba1b-d8e85e442cc6",
   "metadata": {},
   "outputs": [],
   "source": [
    "#Instantiating Object\n",
    "c1 = Car(120, 'Petrol', 4)"
   ]
  },
  {
   "cell_type": "markdown",
   "id": "22471a50-26e9-4c63-97dd-0d05d3c8dc85",
   "metadata": {},
   "source": [
    "## Class Properties"
   ]
  },
  {
   "cell_type": "code",
   "execution_count": 18,
   "id": "28f658f9-3619-4c44-87cd-f02153d25ee4",
   "metadata": {},
   "outputs": [],
   "source": [
    "#Class Creation\n",
    "class Person:\n",
    "    def __init__(self, age):\n",
    "        self._age = age\n",
    "    @property\n",
    "    def age(self):\n",
    "        return self._age\n",
    "    @age.setter\n",
    "    def age(self, val):\n",
    "        if val > 0:\n",
    "            self._age = val\n",
    "        else:\n",
    "            print(\"Age must be positive\")"
   ]
  },
  {
   "cell_type": "code",
   "execution_count": 19,
   "id": "3cbae224-0ccd-4a48-a974-bcb7775e39ba",
   "metadata": {},
   "outputs": [
    {
     "name": "stdout",
     "output_type": "stream",
     "text": [
      "25\n",
      "30\n"
     ]
    }
   ],
   "source": [
    "#Instantiating Object\n",
    "p1 = Person(25)\n",
    "print(p1.age)\n",
    "p2 = Person(30)\n",
    "print(p2.age)"
   ]
  },
  {
   "cell_type": "markdown",
   "id": "1f5b4f44-558a-4d93-818c-744aeb1db184",
   "metadata": {},
   "source": [
    "# Task 2"
   ]
  },
  {
   "cell_type": "markdown",
   "id": "16d03bdf-9d33-469c-90ff-e8584eeb4ba1",
   "metadata": {},
   "source": [
    "View the latest version here: https://github.com/Dhanu-Sree-Suresh/Task-Manager"
   ]
  },
  {
   "cell_type": "markdown",
   "id": "53e55f02-191b-4fa5-a2c9-9ccc0030d296",
   "metadata": {},
   "source": [
    "# Installing Libraries"
   ]
  },
  {
   "cell_type": "code",
   "execution_count": null,
   "id": "2dec684c-e012-4d58-ba5b-7ba63302e7c4",
   "metadata": {},
   "outputs": [],
   "source": [
    "!pip install gradio"
   ]
  },
  {
   "cell_type": "markdown",
   "id": "9608986b-0774-4423-98a6-117e5a584f00",
   "metadata": {},
   "source": [
    "# Libraries Imported"
   ]
  },
  {
   "cell_type": "code",
   "execution_count": 20,
   "id": "79289b9f-eafa-4395-aa6d-ceb042b81c7e",
   "metadata": {},
   "outputs": [],
   "source": [
    "import csv\n",
    "from datetime import datetime\n",
    "import gradio"
   ]
  },
  {
   "cell_type": "code",
   "execution_count": 52,
   "id": "77e36089-372b-464e-ab1c-cd9e376a134a",
   "metadata": {},
   "outputs": [],
   "source": [
    "#Creating a class called Task\n",
    "class Task:\n",
    "    #Initializing attributes of the class called Task\n",
    "    def __init__(self, description: str, deadline: str, priority: str, status: str = \"Pending\"):\n",
    "        #Default argument of status is given as Pending\n",
    "        self.description = description\n",
    "        self.deadline = deadline\n",
    "        self.priority = priority\n",
    "        self.status = status\n",
    "\n",
    "    def mark_complete(self):\n",
    "        self.status = \"Completed\"\n",
    "\n",
    "    def is_overdue(self):\n",
    "        return self.deadline < datetime.now().date()\n",
    "\n",
    "    #Ensuring the values are added in the correct format\n",
    "    @property\n",
    "    def deadline(self):\n",
    "        return self._deadline\n",
    "\n",
    "    #Validating and setting the deadline\n",
    "    @deadline.setter\n",
    "    def deadline(self, value):\n",
    "        try:\n",
    "            valid_date = datetime.strptime(value, '%Y-%m-%d').date()\n",
    "            self._deadline = valid_date\n",
    "        except:\n",
    "            print(\"Invalid Date Format\")\n",
    "            \n",
    "    @property\n",
    "    def priority(self):\n",
    "        return self._priority\n",
    "\n",
    "    @priority.setter\n",
    "    def priority(self, value):\n",
    "        priorities = [\"Low\", \"Medium\", \"High\"]\n",
    "        try:\n",
    "            if value.strip().capitalize() in priorities:\n",
    "                self._priority = value.strip().capitalize()\n",
    "        except ValueError:\n",
    "            print(\"Invalid Priority\")\n",
    "            self._priority = None\n",
    "            \n",
    "    @staticmethod\n",
    "    def add_task(tasks):\n",
    "        description = input(\"Enter task description: \")\n",
    "        deadline = input(\"Enter deadline (YYYY-MM-DD): \")\n",
    "        priority = input(\"Enter priority (Low, Medium, High): \")\n",
    "        task = Task(description, deadline, priority)\n",
    "        tasks.append(task)\n",
    "        print(\"Task added successfully.\")\n",
    "\n",
    "    @staticmethod\n",
    "    def view_tasks(tasks):\n",
    "        sorted_tasks = sorted(tasks, key=lambda x: (x.priority, x.deadline))\n",
    "        for i, task in enumerate(sorted_tasks, 1):\n",
    "            overdue_flag = \"\"\n",
    "            if task.is_overdue():\n",
    "                overdue_flag = \"[Overdue] \"\n",
    "            print(f\"{i}. {overdue_flag}{task.description} (Deadline: {task.deadline}, Priority: {task.priority}, Status: {task.status})\")\n",
    "\n",
    "    @staticmethod\n",
    "    def complete_task(tasks):\n",
    "        view_tasks(tasks)\n",
    "        try:\n",
    "            index = int(input(\"Enter the index of the task to complete: \")) - 1\n",
    "            tasks[index].mark_complete()\n",
    "            print(\"Task marked as complete.\")\n",
    "        except:\n",
    "            print(\"Please enter a valid index.\")\n",
    "\n",
    "    @staticmethod\n",
    "    def delete_task(tasks):\n",
    "        view_tasks(tasks)\n",
    "        try:\n",
    "            index = int(input(\"Enter the index of the task to delete: \")) - 1\n",
    "            if tasks[index].status == \"Completed\":\n",
    "                del tasks[index]\n",
    "                print(\"Task deleted.\")\n",
    "            else:\n",
    "                print(\"Only completed tasks can be deleted.\")\n",
    "        except:\n",
    "            print(\"Please enter a valid index.\")\n",
    "\n",
    "    @staticmethod\n",
    "    def save_tasks(tasks):\n",
    "        with open(\"tasks.csv\", \"w\", newline=\"\") as file:\n",
    "            writer = csv.writer(file)\n",
    "            writer.writerow([\"Description\", \"Deadline\", \"Priority\", \"Status\"])\n",
    "            for task in tasks:\n",
    "                writer.writerow([task.description, task.deadline.strftime(\"%Y-%m-%d\"), task.priority, task.status])\n",
    "\n",
    "    @staticmethod\n",
    "    def load_tasks():\n",
    "        tasks = []\n",
    "        try:\n",
    "            with open(\"tasks.csv\", \"r\") as file:\n",
    "                reader = csv.reader(file)\n",
    "                next(reader)  # Skip header row\n",
    "                for row in reader:\n",
    "                    task = Task(row[0], row[1], row[2], row[3])\n",
    "                    tasks.append(task)\n",
    "        except FileNotFoundError:\n",
    "            pass\n",
    "        return tasks"
   ]
  },
  {
   "cell_type": "markdown",
   "id": "3a60270c-31ab-42eb-9acf-357492571f75",
   "metadata": {},
   "source": [
    "## User-Input Application"
   ]
  },
  {
   "cell_type": "code",
   "execution_count": 53,
   "id": "f747fc8b-3bf2-464f-8fd8-384b4269049e",
   "metadata": {},
   "outputs": [
    {
     "name": "stdout",
     "output_type": "stream",
     "text": [
      "\n",
      "To-Do List Manager\n",
      "1. Add Task\n",
      "2. View Tasks\n",
      "3. Complete Task\n",
      "4. Delete Task\n",
      "5. Save Tasks\n",
      "6. Exit\n"
     ]
    },
    {
     "name": "stdin",
     "output_type": "stream",
     "text": [
      "Enter your choice:  1\n",
      "Enter task description:  Task2\n",
      "Enter deadline (YYYY-MM-DD):  2023-12-24\n",
      "Enter priority (Low, Medium, High):  Low\n"
     ]
    },
    {
     "name": "stdout",
     "output_type": "stream",
     "text": [
      "Task added successfully.\n",
      "\n",
      "To-Do List Manager\n",
      "1. Add Task\n",
      "2. View Tasks\n",
      "3. Complete Task\n",
      "4. Delete Task\n",
      "5. Save Tasks\n",
      "6. Exit\n"
     ]
    },
    {
     "name": "stdin",
     "output_type": "stream",
     "text": [
      "Enter your choice:  Task3\n"
     ]
    },
    {
     "name": "stdout",
     "output_type": "stream",
     "text": [
      "Invalid choice. Please try again.\n",
      "\n",
      "To-Do List Manager\n",
      "1. Add Task\n",
      "2. View Tasks\n",
      "3. Complete Task\n",
      "4. Delete Task\n",
      "5. Save Tasks\n",
      "6. Exit\n"
     ]
    },
    {
     "name": "stdin",
     "output_type": "stream",
     "text": [
      "Enter your choice:  1\n",
      "Enter task description:  Task3\n",
      "Enter deadline (YYYY-MM-DD):  2024-12-12\n",
      "Enter priority (Low, Medium, High):  Medium\n"
     ]
    },
    {
     "name": "stdout",
     "output_type": "stream",
     "text": [
      "Task added successfully.\n",
      "\n",
      "To-Do List Manager\n",
      "1. Add Task\n",
      "2. View Tasks\n",
      "3. Complete Task\n",
      "4. Delete Task\n",
      "5. Save Tasks\n",
      "6. Exit\n"
     ]
    },
    {
     "name": "stdin",
     "output_type": "stream",
     "text": [
      "Enter your choice:  2\n"
     ]
    },
    {
     "name": "stdout",
     "output_type": "stream",
     "text": [
      "1. [Overdue] Task1 (Deadline: 2023-12-13, Priority: High, Status: Completed)\n",
      "2. [Overdue] Task2 (Deadline: 2023-12-24, Priority: Low, Status: Pending)\n",
      "3. Task3 (Deadline: 2024-12-12, Priority: Medium, Status: Pending)\n",
      "\n",
      "To-Do List Manager\n",
      "1. Add Task\n",
      "2. View Tasks\n",
      "3. Complete Task\n",
      "4. Delete Task\n",
      "5. Save Tasks\n",
      "6. Exit\n"
     ]
    },
    {
     "name": "stdin",
     "output_type": "stream",
     "text": [
      "Enter your choice:  3.\n"
     ]
    },
    {
     "name": "stdout",
     "output_type": "stream",
     "text": [
      "Invalid choice. Please try again.\n",
      "\n",
      "To-Do List Manager\n",
      "1. Add Task\n",
      "2. View Tasks\n",
      "3. Complete Task\n",
      "4. Delete Task\n",
      "5. Save Tasks\n",
      "6. Exit\n"
     ]
    },
    {
     "name": "stdin",
     "output_type": "stream",
     "text": [
      "Enter your choice:  2\n"
     ]
    },
    {
     "name": "stdout",
     "output_type": "stream",
     "text": [
      "1. [Overdue] Task1 (Deadline: 2023-12-13, Priority: High, Status: Completed)\n",
      "2. [Overdue] Task2 (Deadline: 2023-12-24, Priority: Low, Status: Pending)\n",
      "3. Task3 (Deadline: 2024-12-12, Priority: Medium, Status: Pending)\n",
      "\n",
      "To-Do List Manager\n",
      "1. Add Task\n",
      "2. View Tasks\n",
      "3. Complete Task\n",
      "4. Delete Task\n",
      "5. Save Tasks\n",
      "6. Exit\n"
     ]
    },
    {
     "name": "stdin",
     "output_type": "stream",
     "text": [
      "Enter your choice:  3\n"
     ]
    },
    {
     "name": "stdout",
     "output_type": "stream",
     "text": [
      "1. [Overdue] Task1 (Deadline: 2023-12-13, Priority: High, Status: Completed)\n",
      "2. [Overdue] Task2 (Deadline: 2023-12-24, Priority: Low, Status: Pending)\n",
      "3. Task3 (Deadline: 2024-12-12, Priority: Medium, Status: Pending)\n"
     ]
    },
    {
     "name": "stdin",
     "output_type": "stream",
     "text": [
      "Enter the index of the task to complete:  2\n"
     ]
    },
    {
     "name": "stdout",
     "output_type": "stream",
     "text": [
      "Task marked as complete.\n",
      "\n",
      "To-Do List Manager\n",
      "1. Add Task\n",
      "2. View Tasks\n",
      "3. Complete Task\n",
      "4. Delete Task\n",
      "5. Save Tasks\n",
      "6. Exit\n"
     ]
    },
    {
     "name": "stdin",
     "output_type": "stream",
     "text": [
      "Enter your choice:  2\n"
     ]
    },
    {
     "name": "stdout",
     "output_type": "stream",
     "text": [
      "1. [Overdue] Task1 (Deadline: 2023-12-13, Priority: High, Status: Completed)\n",
      "2. [Overdue] Task2 (Deadline: 2023-12-24, Priority: Low, Status: Completed)\n",
      "3. Task3 (Deadline: 2024-12-12, Priority: Medium, Status: Pending)\n",
      "\n",
      "To-Do List Manager\n",
      "1. Add Task\n",
      "2. View Tasks\n",
      "3. Complete Task\n",
      "4. Delete Task\n",
      "5. Save Tasks\n",
      "6. Exit\n"
     ]
    },
    {
     "name": "stdin",
     "output_type": "stream",
     "text": [
      "Enter your choice:  4\n"
     ]
    },
    {
     "name": "stdout",
     "output_type": "stream",
     "text": [
      "1. [Overdue] Task1 (Deadline: 2023-12-13, Priority: High, Status: Completed)\n",
      "2. [Overdue] Task2 (Deadline: 2023-12-24, Priority: Low, Status: Completed)\n",
      "3. Task3 (Deadline: 2024-12-12, Priority: Medium, Status: Pending)\n"
     ]
    },
    {
     "name": "stdin",
     "output_type": "stream",
     "text": [
      "Enter the index of the task to delete:  2\n"
     ]
    },
    {
     "name": "stdout",
     "output_type": "stream",
     "text": [
      "Task deleted.\n",
      "\n",
      "To-Do List Manager\n",
      "1. Add Task\n",
      "2. View Tasks\n",
      "3. Complete Task\n",
      "4. Delete Task\n",
      "5. Save Tasks\n",
      "6. Exit\n"
     ]
    },
    {
     "name": "stdin",
     "output_type": "stream",
     "text": [
      "Enter your choice:  5\n"
     ]
    },
    {
     "name": "stdout",
     "output_type": "stream",
     "text": [
      "\n",
      "To-Do List Manager\n",
      "1. Add Task\n",
      "2. View Tasks\n",
      "3. Complete Task\n",
      "4. Delete Task\n",
      "5. Save Tasks\n",
      "6. Exit\n"
     ]
    },
    {
     "name": "stdin",
     "output_type": "stream",
     "text": [
      "Enter your choice:  6\n"
     ]
    }
   ],
   "source": [
    "def main():\n",
    "    tasks = load_tasks()\n",
    "\n",
    "    while True:\n",
    "        print(\"\"\"\n",
    "To-Do List Manager\n",
    "1. Add Task\n",
    "2. View Tasks\n",
    "3. Complete Task\n",
    "4. Delete Task\n",
    "5. Save Tasks\n",
    "6. Exit\"\"\")\n",
    "\n",
    "        c = input(\"Enter your choice: \")\n",
    "\n",
    "        if c == \"1\":\n",
    "            add_task(tasks)\n",
    "        elif c == \"2\":\n",
    "            view_tasks(tasks)\n",
    "        elif c == \"3\":\n",
    "            complete_task(tasks)\n",
    "        elif c == \"4\":\n",
    "            delete_task(tasks)\n",
    "        elif c == \"5\":\n",
    "            save_tasks(tasks)\n",
    "        elif c == \"6\":\n",
    "            break\n",
    "        else:\n",
    "            print(\"Invalid choice. Please try again.\")\n",
    "\n",
    "if __name__ == \"__main__\":\n",
    "    main()"
   ]
  }
 ],
 "metadata": {
  "kernelspec": {
   "display_name": "Python 3 (ipykernel)",
   "language": "python",
   "name": "python3"
  },
  "language_info": {
   "codemirror_mode": {
    "name": "ipython",
    "version": 3
   },
   "file_extension": ".py",
   "mimetype": "text/x-python",
   "name": "python",
   "nbconvert_exporter": "python",
   "pygments_lexer": "ipython3",
   "version": "3.12.4"
  }
 },
 "nbformat": 4,
 "nbformat_minor": 5
}
